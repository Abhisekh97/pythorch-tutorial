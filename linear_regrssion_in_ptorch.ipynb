{
  "nbformat": 4,
  "nbformat_minor": 0,
  "metadata": {
    "colab": {
      "name": "linear regrssion in ptorch.ipynb",
      "provenance": [],
      "authorship_tag": "ABX9TyMF2OVIp0sVzyTcu9nv0hT0",
      "include_colab_link": true
    },
    "kernelspec": {
      "name": "python3",
      "display_name": "Python 3"
    }
  },
  "cells": [
    {
      "cell_type": "markdown",
      "metadata": {
        "id": "view-in-github",
        "colab_type": "text"
      },
      "source": [
        "<a href=\"https://colab.research.google.com/github/Abhisekh97/pythorch-tutorial/blob/main/linear_regrssion_in_ptorch.ipynb\" target=\"_parent\"><img src=\"https://colab.research.google.com/assets/colab-badge.svg\" alt=\"Open In Colab\"/></a>"
      ]
    },
    {
      "cell_type": "code",
      "metadata": {
        "colab": {
          "base_uri": "https://localhost:8080/"
        },
        "id": "gholyTyYC6OZ",
        "outputId": "c3b1a849-0a6b-40dc-b895-521cb21e1d68"
      },
      "source": [
        "!pip install torch\r\n"
      ],
      "execution_count": 1,
      "outputs": [
        {
          "output_type": "stream",
          "text": [
            "Requirement already satisfied: torch in /usr/local/lib/python3.7/dist-packages (1.7.1+cu101)\n",
            "Requirement already satisfied: numpy in /usr/local/lib/python3.7/dist-packages (from torch) (1.19.5)\n",
            "Requirement already satisfied: typing-extensions in /usr/local/lib/python3.7/dist-packages (from torch) (3.7.4.3)\n"
          ],
          "name": "stdout"
        }
      ]
    },
    {
      "cell_type": "code",
      "metadata": {
        "id": "ycLoS8h7C-q5"
      },
      "source": [
        "import numpy as np\r\n",
        "import torch as pt"
      ],
      "execution_count": 95,
      "outputs": []
    },
    {
      "cell_type": "code",
      "metadata": {
        "id": "CsaQKXyoDM_-"
      },
      "source": [
        "inputs = np.array([[73, 67, 43], \r\n",
        "                   [91, 88, 64], \r\n",
        "                   [87, 134, 58], \r\n",
        "                   [102, 43, 37], \r\n",
        "                   [69, 96, 70]], dtype='float32')"
      ],
      "execution_count": 96,
      "outputs": []
    },
    {
      "cell_type": "code",
      "metadata": {
        "id": "kjHRAnJdDt1k"
      },
      "source": [
        "targets = np.array([[56, 70], \r\n",
        "                    [81, 101], \r\n",
        "                    [119, 133], \r\n",
        "                    [22, 37], \r\n",
        "                    [103, 119]], dtype='float32')"
      ],
      "execution_count": 97,
      "outputs": []
    },
    {
      "cell_type": "code",
      "metadata": {
        "id": "7OcQrZItDym2"
      },
      "source": [
        "inputs = pt.from_numpy(inputs)"
      ],
      "execution_count": 98,
      "outputs": []
    },
    {
      "cell_type": "code",
      "metadata": {
        "id": "pfatyUSLD6Vs"
      },
      "source": [
        "targets = pt.from_numpy(targets)"
      ],
      "execution_count": 99,
      "outputs": []
    },
    {
      "cell_type": "code",
      "metadata": {
        "id": "chsjrRHwD8Cp"
      },
      "source": [
        "w = pt.randn(2,3, requires_grad=True)\r\n",
        "b = pt.randn(2, requires_grad=True)"
      ],
      "execution_count": 111,
      "outputs": []
    },
    {
      "cell_type": "code",
      "metadata": {
        "colab": {
          "base_uri": "https://localhost:8080/"
        },
        "id": "9-2z_EEjEqJO",
        "outputId": "abeb8415-6cb1-447a-cfbc-7ba6633685d0"
      },
      "source": [
        "print(w)"
      ],
      "execution_count": 101,
      "outputs": [
        {
          "output_type": "stream",
          "text": [
            "tensor([[-0.4834, -0.5801, -0.4193],\n",
            "        [ 1.0051,  0.5252, -1.1974]], requires_grad=True)\n"
          ],
          "name": "stdout"
        }
      ]
    },
    {
      "cell_type": "code",
      "metadata": {
        "id": "VgUy9xKkEske"
      },
      "source": [
        "def model(inputs):\r\n",
        "  return inputs @ w.t() + b"
      ],
      "execution_count": 102,
      "outputs": []
    },
    {
      "cell_type": "code",
      "metadata": {
        "colab": {
          "base_uri": "https://localhost:8080/"
        },
        "id": "l28YCHI3GEyv",
        "outputId": "e46025fe-a261-471f-ae82-c5d53a514577"
      },
      "source": [
        "print(output)"
      ],
      "execution_count": 103,
      "outputs": [
        {
          "output_type": "stream",
          "text": [
            "tensor([[  9.4070,  42.3052],\n",
            "        [ 13.6799,  56.5922],\n",
            "        [ 66.6268,  76.9514],\n",
            "        [-34.0306,  31.0458],\n",
            "        [ 35.4556,  60.6044]], grad_fn=<AddBackward0>)\n"
          ],
          "name": "stdout"
        }
      ]
    },
    {
      "cell_type": "code",
      "metadata": {
        "id": "1h16znITGWxp"
      },
      "source": [
        "prediction = model(inputs)"
      ],
      "execution_count": 104,
      "outputs": []
    },
    {
      "cell_type": "code",
      "metadata": {
        "colab": {
          "base_uri": "https://localhost:8080/"
        },
        "id": "kv6XAnfqGtMc",
        "outputId": "7e739790-6d76-44d3-a6fb-75fb04e24c8e"
      },
      "source": [
        "print(prediction)"
      ],
      "execution_count": 105,
      "outputs": [
        {
          "output_type": "stream",
          "text": [
            "tensor([[ -93.4299,   56.9226],\n",
            "        [-123.1189,   60.9000],\n",
            "        [-145.3562,   88.2236],\n",
            "        [ -91.0096,   80.6507],\n",
            "        [-119.6408,   35.8044]], grad_fn=<AddBackward0>)\n"
          ],
          "name": "stdout"
        }
      ]
    },
    {
      "cell_type": "code",
      "metadata": {
        "colab": {
          "base_uri": "https://localhost:8080/"
        },
        "id": "Y1Ka-K-MG8zs",
        "outputId": "f0bdbdd0-1f74-493a-a4aa-27f6c1a909f9"
      },
      "source": [
        "print(targets)"
      ],
      "execution_count": 106,
      "outputs": [
        {
          "output_type": "stream",
          "text": [
            "tensor([[ 56.,  70.],\n",
            "        [ 81., 101.],\n",
            "        [119., 133.],\n",
            "        [ 22.,  37.],\n",
            "        [103., 119.]])\n"
          ],
          "name": "stdout"
        }
      ]
    },
    {
      "cell_type": "code",
      "metadata": {
        "id": "EveFJATzHGyy"
      },
      "source": [
        "def rmse_loss(pred, targets):\r\n",
        "  diff = pred - targets\r\n",
        "  diff = diff * diff\r\n",
        "  su = pt.sum(diff)/diff.numel()\r\n",
        "  return pt.sqrt(su)"
      ],
      "execution_count": 107,
      "outputs": []
    },
    {
      "cell_type": "code",
      "metadata": {
        "colab": {
          "base_uri": "https://localhost:8080/"
        },
        "id": "3Zu8fbd3VL5F",
        "outputId": "1096bbac-fbe0-48aa-c68f-4007bfb2318d"
      },
      "source": [
        "for i in range(1000):\r\n",
        "  predictions = model(inputs)\r\n",
        "  loss = rmse_loss(predictions, targets)\r\n",
        "  if i%100 == 0:\r\n",
        "    print(\" epoch {} loss: {}\\n\".format(i+1, loss))\r\n",
        "  loss.backward()\r\n",
        "  with pt.no_grad():\r\n",
        "    w -= w.grad * 1e-3\r\n",
        "    b -= b.grad * 1e-3\r\n",
        "    w.grad.zero_()\r\n",
        "    b.grad.zero_()"
      ],
      "execution_count": 112,
      "outputs": [
        {
          "output_type": "stream",
          "text": [
            " epoch 1 loss: 115.27461242675781\n",
            "\n",
            " epoch 101 loss: 17.625932693481445\n",
            "\n",
            " epoch 201 loss: 4.468225479125977\n",
            "\n",
            " epoch 301 loss: 4.4765424728393555\n",
            "\n",
            " epoch 401 loss: 4.47726583480835\n",
            "\n",
            " epoch 501 loss: 4.477347373962402\n",
            "\n",
            " epoch 601 loss: 4.477368354797363\n",
            "\n",
            " epoch 701 loss: 4.477360248565674\n",
            "\n",
            " epoch 801 loss: 4.477365493774414\n",
            "\n",
            " epoch 901 loss: 4.47736120223999\n",
            "\n"
          ],
          "name": "stdout"
        }
      ]
    },
    {
      "cell_type": "code",
      "metadata": {
        "colab": {
          "base_uri": "https://localhost:8080/"
        },
        "id": "-umF2Y5-VpXz",
        "outputId": "00d84cb7-5ff5-4b59-862d-a5bbe3a1c7af"
      },
      "source": [
        "print(w)"
      ],
      "execution_count": 114,
      "outputs": [
        {
          "output_type": "stream",
          "text": [
            "tensor([[-0.4008,  0.8590,  0.6852],\n",
            "        [-0.3409,  0.7655,  0.8827]], requires_grad=True)\n"
          ],
          "name": "stdout"
        }
      ]
    },
    {
      "cell_type": "code",
      "metadata": {
        "colab": {
          "base_uri": "https://localhost:8080/"
        },
        "id": "ln8hOgLCWmua",
        "outputId": "88568ded-255b-4f94-df8e-fadff60d1df0"
      },
      "source": [
        "print(b)"
      ],
      "execution_count": 115,
      "outputs": [
        {
          "output_type": "stream",
          "text": [
            "tensor([1.3726, 1.4920], requires_grad=True)\n"
          ],
          "name": "stdout"
        }
      ]
    },
    {
      "cell_type": "code",
      "metadata": {
        "id": "KTU9fGkubFOC"
      },
      "source": [
        "pred = model(inputs)"
      ],
      "execution_count": 116,
      "outputs": []
    },
    {
      "cell_type": "code",
      "metadata": {
        "colab": {
          "base_uri": "https://localhost:8080/"
        },
        "id": "GZPWwwdwbKfq",
        "outputId": "9a40361d-60bf-4b89-bea6-76623174c8c6"
      },
      "source": [
        "print(pred)\r\n",
        "print(targets)"
      ],
      "execution_count": 117,
      "outputs": [
        {
          "output_type": "stream",
          "text": [
            "tensor([[ 59.1362,  65.8471],\n",
            "        [ 84.3519,  94.3223],\n",
            "        [121.3583, 125.6007],\n",
            "        [ 22.7859,  32.2926],\n",
            "        [104.1525, 113.2430]], grad_fn=<AddBackward0>)\n",
            "tensor([[ 56.,  70.],\n",
            "        [ 81., 101.],\n",
            "        [119., 133.],\n",
            "        [ 22.,  37.],\n",
            "        [103., 119.]])\n"
          ],
          "name": "stdout"
        }
      ]
    },
    {
      "cell_type": "code",
      "metadata": {
        "colab": {
          "base_uri": "https://localhost:8080/"
        },
        "id": "_CxNu--gbNsy",
        "outputId": "a91dd339-cb25-40f1-d442-b0b41e913968"
      },
      "source": [
        "!pip install jovian --upgrade -q"
      ],
      "execution_count": 118,
      "outputs": [
        {
          "output_type": "stream",
          "text": [
            "\u001b[?25l\r\u001b[K     |████▉                           | 10kB 19.3MB/s eta 0:00:01\r\u001b[K     |█████████▊                      | 20kB 11.7MB/s eta 0:00:01\r\u001b[K     |██████████████▌                 | 30kB 9.7MB/s eta 0:00:01\r\u001b[K     |███████████████████▍            | 40kB 7.6MB/s eta 0:00:01\r\u001b[K     |████████████████████████▏       | 51kB 4.1MB/s eta 0:00:01\r\u001b[K     |█████████████████████████████   | 61kB 4.3MB/s eta 0:00:01\r\u001b[K     |████████████████████████████████| 71kB 3.0MB/s \n",
            "\u001b[?25h  Building wheel for uuid (setup.py) ... \u001b[?25l\u001b[?25hdone\n"
          ],
          "name": "stdout"
        }
      ]
    },
    {
      "cell_type": "code",
      "metadata": {
        "id": "ffT5lvFubm2h"
      },
      "source": [
        "import jovian"
      ],
      "execution_count": 119,
      "outputs": []
    },
    {
      "cell_type": "code",
      "metadata": {
        "colab": {
          "base_uri": "https://localhost:8080/"
        },
        "id": "mVr0ikyNbr62",
        "outputId": "8af44e7b-2c8b-430e-cb67-9d403bd0a242"
      },
      "source": [
        "jovian.commit(project='02-linear-regression')"
      ],
      "execution_count": 120,
      "outputs": [
        {
          "output_type": "stream",
          "text": [
            "[jovian] Detected Colab notebook...\u001b[0m\n"
          ],
          "name": "stdout"
        },
        {
          "output_type": "stream",
          "text": [
            "\u001b[31m[jovian] Error: jovian.commit doesn't work on Colab unless the notebook was created and executed from Jovian.\n",
            "Make sure to run the first code cell at the top after executing from Jovian.\n",
            "Alternatively, you can download this notebook and upload it manually to Jovian.\n",
            "Learn more: https://jovian.ai/docs/user-guide/run.html#run-on-colab\u001b[0m\n"
          ],
          "name": "stderr"
        }
      ]
    }
  ]
}